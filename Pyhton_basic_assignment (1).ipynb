{
 "cells": [
  {
   "cell_type": "code",
   "execution_count": 1,
   "id": "1d89ea98-b1ba-409b-a374-19ff5e1c28ac",
   "metadata": {},
   "outputs": [],
   "source": [
    "# Python Basics Variable"
   ]
  },
  {
   "cell_type": "code",
   "execution_count": 72,
   "id": "f19983a5-aecf-41f9-b60c-f740360d657e",
   "metadata": {},
   "outputs": [],
   "source": [
    "# creating variables and swapping them \n",
    "a = 10 \n",
    "b = 20"
   ]
  },
  {
   "cell_type": "code",
   "execution_count": 73,
   "id": "0b8e7f56-b7fc-4faa-98f2-cedca8f810f7",
   "metadata": {},
   "outputs": [
    {
     "name": "stdout",
     "output_type": "stream",
     "text": [
      "a : 10\n",
      "b : 20\n"
     ]
    }
   ],
   "source": [
    "print(\"a :\",a)\n",
    "print(\"b :\",b)"
   ]
  },
  {
   "cell_type": "code",
   "execution_count": 74,
   "id": "b7f5da95-6e7c-4925-a2eb-8a4033d7d8cd",
   "metadata": {},
   "outputs": [],
   "source": [
    "a,b=b,a #Swapping"
   ]
  },
  {
   "cell_type": "code",
   "execution_count": 75,
   "id": "8538901e-c9c1-4052-bfde-9396bbec6576",
   "metadata": {},
   "outputs": [
    {
     "name": "stdout",
     "output_type": "stream",
     "text": [
      "a : 20\n",
      "b : 10\n"
     ]
    }
   ],
   "source": [
    "print(\"a :\",a)\n",
    "print(\"b :\",b)"
   ]
  },
  {
   "cell_type": "code",
   "execution_count": 20,
   "id": "5544a3c1-d05e-4e5d-b63b-68da8d038ac4",
   "metadata": {},
   "outputs": [],
   "source": [
    "# Calculate area of rectangle "
   ]
  },
  {
   "cell_type": "code",
   "execution_count": 23,
   "id": "ccb300a3-1723-4409-8c7a-fd1897f52c2b",
   "metadata": {},
   "outputs": [
    {
     "name": "stdin",
     "output_type": "stream",
     "text": [
      " 5\n",
      " 10\n"
     ]
    }
   ],
   "source": [
    "length = int(input())\n",
    "width = int(input())\n"
   ]
  },
  {
   "cell_type": "code",
   "execution_count": 26,
   "id": "c2ac8fc7-6c1d-4173-8dc2-6439ccc9d22b",
   "metadata": {},
   "outputs": [
    {
     "name": "stdout",
     "output_type": "stream",
     "text": [
      "Area of reactangle: 50\n"
     ]
    }
   ],
   "source": [
    "print(\"Area of reactangle:\",length*width)"
   ]
  },
  {
   "cell_type": "code",
   "execution_count": 27,
   "id": "12910a5d-6a4a-43c1-b21b-ca305250ad68",
   "metadata": {},
   "outputs": [],
   "source": [
    "# Converts temperature from Celsius to Fahrenheit."
   ]
  },
  {
   "cell_type": "code",
   "execution_count": 76,
   "id": "50412ebb-3a80-4201-a5b7-e2c9ab9a8153",
   "metadata": {},
   "outputs": [
    {
     "name": "stdin",
     "output_type": "stream",
     "text": [
      "Enter temperature in Celsius 549\n"
     ]
    },
    {
     "name": "stdout",
     "output_type": "stream",
     "text": [
      "Temp in Farenherit: 1020.2\n"
     ]
    }
   ],
   "source": [
    "celsius = int(input(\"Enter temperature in Celsius\"))\n",
    "F = (celsius * 9/5) +32\n",
    "print(\"Temp in Farenherit:\",F)"
   ]
  },
  {
   "cell_type": "code",
   "execution_count": 30,
   "id": "1f242579-0f4f-4d24-aee2-165daca1b5f3",
   "metadata": {},
   "outputs": [],
   "source": [
    "\n",
    "# TOPIC: String Based Questions"
   ]
  },
  {
   "cell_type": "code",
   "execution_count": 77,
   "id": "a73f4dcd-b516-4641-880d-e888ae0eeb21",
   "metadata": {},
   "outputs": [
    {
     "name": "stdin",
     "output_type": "stream",
     "text": [
      " sudhanshu\n"
     ]
    },
    {
     "name": "stdout",
     "output_type": "stream",
     "text": [
      "Lenght of string : 9\n"
     ]
    }
   ],
   "source": [
    "s = input() \n",
    "print(\"Lenght of string :\",len(s))"
   ]
  },
  {
   "cell_type": "code",
   "execution_count": 33,
   "id": "c789c6e5-8ec7-4d27-9981-9719c15be84f",
   "metadata": {},
   "outputs": [],
   "source": [
    "# Counting  the number of vowels"
   ]
  },
  {
   "cell_type": "code",
   "execution_count": 44,
   "id": "d9f6ae95-d1a0-45e4-b2f7-0bcd33ce2871",
   "metadata": {},
   "outputs": [],
   "source": [
    "sentence = \"Hi guys, I am sudhanshu, hope you all are fine!\""
   ]
  },
  {
   "cell_type": "code",
   "execution_count": 50,
   "id": "44ad7225-4b6d-4019-8094-f2e3f340fa54",
   "metadata": {},
   "outputs": [],
   "source": [
    "sentence = sentence.lower()"
   ]
  },
  {
   "cell_type": "code",
   "execution_count": 51,
   "id": "91ebf7fd-aa93-46eb-8250-a2104e29cde8",
   "metadata": {},
   "outputs": [
    {
     "name": "stdout",
     "output_type": "stream",
     "text": [
      "Number of vowels : 16\n"
     ]
    }
   ],
   "source": [
    "cnt=0\n",
    "for i in sentence:\n",
    "    if i=='a' or i=='e' or i=='i' or i=='o' or i=='u' :\n",
    "        cnt+=1\n",
    "print(\"Number of vowels :\",cnt)"
   ]
  },
  {
   "cell_type": "code",
   "execution_count": 52,
   "id": "90184464-03b7-4ed4-accb-e78378b1482d",
   "metadata": {},
   "outputs": [],
   "source": [
    "# Reversing a string"
   ]
  },
  {
   "cell_type": "code",
   "execution_count": 55,
   "id": "ba263c8d-7446-44e7-a4fa-975691c2f50d",
   "metadata": {},
   "outputs": [
    {
     "name": "stdout",
     "output_type": "stream",
     "text": [
      "Reversed : RacecaR\n",
      "Reversed : hduS\n"
     ]
    }
   ],
   "source": [
    "s = \"RacecaR\" \n",
    "s1 = \"Sudh\" \n",
    "s= s[::-1]\n",
    "s1=s1[::-1]\n",
    "print(\"Reversed :\",s)\n",
    "print(\"Reversed :\",s1)"
   ]
  },
  {
   "cell_type": "code",
   "execution_count": 56,
   "id": "8ff19573-de3b-4f6e-9fb2-d0cfcbe81a13",
   "metadata": {},
   "outputs": [],
   "source": [
    "# Check palindrome "
   ]
  },
  {
   "cell_type": "code",
   "execution_count": 58,
   "id": "27096f7b-c94e-4101-af55-478732462825",
   "metadata": {},
   "outputs": [
    {
     "name": "stdin",
     "output_type": "stream",
     "text": [
      " racecar\n"
     ]
    },
    {
     "name": "stdout",
     "output_type": "stream",
     "text": [
      "racecar is palindrome\n"
     ]
    }
   ],
   "source": [
    "string = input()\n",
    "string1 = string[::-1] \n",
    "if string==string1:\n",
    "    print(string  ,\"is palindrome\")\n",
    "else:\n",
    "    print(string  ,\"Not Palindrome\")"
   ]
  },
  {
   "cell_type": "code",
   "execution_count": 63,
   "id": "3dd3a3a6-03d2-4392-b670-e3e3dd22a9e7",
   "metadata": {},
   "outputs": [],
   "source": [
    "# Removing spaces from string\n"
   ]
  },
  {
   "cell_type": "code",
   "execution_count": 65,
   "id": "5dfe9be1-7113-478c-8c70-e8b5dfcc1885",
   "metadata": {},
   "outputs": [
    {
     "name": "stdin",
     "output_type": "stream",
     "text": [
      "    hi  are    you   o  k\n"
     ]
    }
   ],
   "source": [
    "user_inp = input()\n",
    "\n"
   ]
  },
  {
   "cell_type": "code",
   "execution_count": 69,
   "id": "35edc801-8072-46ab-82fd-d02e3f2e5a26",
   "metadata": {},
   "outputs": [
    {
     "name": "stdout",
     "output_type": "stream",
     "text": [
      "After removing spaces:  hiareyouok\n"
     ]
    }
   ],
   "source": [
    "res = user_inp.replace(\" \",\"\")\n",
    "print(\"After removing spaces: \",res)"
   ]
  },
  {
   "cell_type": "code",
   "execution_count": null,
   "id": "56929bfb-7b63-4873-a55e-8d0637878685",
   "metadata": {},
   "outputs": [],
   "source": []
  }
 ],
 "metadata": {
  "kernelspec": {
   "display_name": "Python 3 (ipykernel)",
   "language": "python",
   "name": "python3"
  },
  "language_info": {
   "codemirror_mode": {
    "name": "ipython",
    "version": 3
   },
   "file_extension": ".py",
   "mimetype": "text/x-python",
   "name": "python",
   "nbconvert_exporter": "python",
   "pygments_lexer": "ipython3",
   "version": "3.10.8"
  }
 },
 "nbformat": 4,
 "nbformat_minor": 5
}
